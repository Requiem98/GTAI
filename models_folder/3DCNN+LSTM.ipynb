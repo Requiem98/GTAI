{
 "cells": [
  {
   "cell_type": "code",
   "execution_count": null,
   "metadata": {
    "colab": {
     "base_uri": "https://localhost:8080/"
    },
    "executionInfo": {
     "elapsed": 1851,
     "status": "ok",
     "timestamp": 1670689413747,
     "user": {
      "displayName": "giulio derasmo",
      "userId": "12222303636018229316"
     },
     "user_tz": -60
    },
    "id": "2SjSBpn3xt9D",
    "outputId": "6180acac-5c45-436e-920c-d4fb88b5b43b"
   },
   "outputs": [
    {
     "name": "stdout",
     "output_type": "stream",
     "text": [
      "Drive already mounted at /content/drive; to attempt to forcibly remount, call drive.mount(\"/content/drive\", force_remount=True).\n"
     ]
    }
   ],
   "source": [
    "from google.colab import drive\n",
    "drive.mount('/content/drive')"
   ]
  },
  {
   "cell_type": "code",
   "execution_count": null,
   "metadata": {
    "id": "V-iK7DoLmiYh"
   },
   "outputs": [],
   "source": [
    "import torch\n",
    "from torchvision import transforms, utils\n",
    "import torch.nn as nn\n",
    "import torch.nn.functional as F"
   ]
  },
  {
   "cell_type": "code",
   "execution_count": null,
   "metadata": {
    "id": "F7Phwl-fmuao"
   },
   "outputs": [],
   "source": [
    "class Convolution3D(nn.Module):\n",
    "    def __init__(self):\n",
    "        super(Convolution3D,self).__init__()\n",
    "        \n",
    "        # 3*3*3 Conv3d \n",
    "        self.conv1 = nn.Conv3d(in_channels = 3, out_channels = 64, kernel_size=(3,3,3),padding=(1,0,0))\n",
    "        self.bn1 = nn.BatchNorm3d(num_features = 64)\n",
    "        # 3D MaxPooling\n",
    "        self.mp1 = nn.MaxPool3d(kernel_size = (1,2,2), stride=(1,2,2), padding=(0,0,0))\n",
    "        # 3D MaxPooling\n",
    "        self.mp2 = nn.MaxPool3d(kernel_size =(1,2,2), stride=(1,2,2), padding=(0,0,0))\n",
    "        # 3*3*3 Conv3d\n",
    "        self.conv2 = nn.Conv3d(in_channels = 64, out_channels = 64,kernel_size=3, padding = (1,0,0))\n",
    "        self.bn2 = nn.BatchNorm3d(num_features = 64)\n",
    "        # Residual Convolution\n",
    "        self.resconv1 = nn.Conv3d(in_channels = 64, out_channels = 64, kernel_size = 3, padding = (1,1,1))\n",
    "        self.ap1 = nn.AvgPool3d(kernel_size = 1, stride =1, padding = (0,0,0))\n",
    "        self.resbn1 = nn.BatchNorm3d(num_features = 64)\n",
    "        # 3*3*3 Conv3d\n",
    "        self.conv3 = nn.Conv3d(in_channels = 64, out_channels = 64,kernel_size=3, padding = (1,0,0))\n",
    "        self.bn3 = nn.BatchNorm3d(num_features = 64)\n",
    "        # Residual Convolution\n",
    "        self.resconv2 = nn.Conv3d(in_channels = 64, out_channels = 64, kernel_size = 3, padding = (1,1,1))\n",
    "        self.ap2 = nn.AvgPool3d(kernel_size = 1, stride=1, padding = (0,0,0) )\n",
    "        self.resbn2 = nn.BatchNorm3d(num_features = 64)\n",
    "        # 3*3*3 Conv3d\n",
    "        self.conv4 = nn.Conv3d(in_channels = 64, out_channels = 8, kernel_size=(3,3,3), padding=(1,0,0))\n",
    "        self.bn4 = nn.BatchNorm3d(num_features = 8)\n",
    "        # 3*3*3 Conv3d\n",
    "        self.conv5 = nn.Conv3d(in_channels = 8, out_channels = 8, kernel_size=(3,3,3), padding=(1,0,0))\n",
    "        self.bn5 = nn.BatchNorm3d(num_features = 8)\n",
    "        # 3*3*3 Conv3d\n",
    "        self.conv6 = nn.Conv3d(in_channels = 8, out_channels = 8, kernel_size=(3,3,3), padding=(1,0,0))\n",
    "        self.bn6 = nn.BatchNorm3d(num_features = 8)\n",
    "        \n",
    "        self.Flatten1 = nn.Flatten(start_dim=2)\n",
    "        \n",
    "        self.LSTM1 = nn.LSTM(input_size = 10488, hidden_size = 64, num_layers = 1, batch_first=True)\n",
    "        self.LSTM2 = nn.LSTM(input_size = 64, hidden_size = 16, num_layers = 1, batch_first=True)\n",
    "        \n",
    "        self.fc1 = nn.Linear(in_features = 16, out_features = 512, bias=True)\n",
    "        self.fc2 = nn.Linear(in_features = 512, out_features = 128, bias=True)\n",
    "        self.fc3 = nn.Linear(in_features = 128, out_features = 64, bias=True)\n",
    "        self.fc4 = nn.Linear(in_features = 64, out_features = 16, bias=True)\n",
    "        self.fc5 = nn.Linear(in_features = 16, out_features = 1, bias=True)\n",
    "\n",
    "\n",
    "    def forward(self, x):\n",
    "        # 3*3*3 3D Conv 3\n",
    "        x = F.relu(self.bn1(self.conv1(x)))\n",
    "        # 3D Max Pooling\n",
    "        x = self.mp1(x)\n",
    "        # 3D Max Pooling\n",
    "        x = self.mp2(x)\n",
    "        # 3*3*3 3D Conv 64\n",
    "        x = F.relu(self.bn2(self.conv2(x)))\n",
    "        # ResNet - 3*3*3 3D Conv 64\n",
    "        Residual = x\n",
    "        Res_Output = F.relu(self.resbn1(self.resconv1(x)))\n",
    "        x = F.relu(Residual + Res_Output)\n",
    "        x = self.ap1(x)\n",
    "        # 3*3*3 3D Conv 64\n",
    "        x = F.relu(self.bn3(self.conv3(x)))\n",
    "        # ResNet - 3*3*3 3D Conv 64\n",
    "        Residual = x\n",
    "        Res_Output = F.relu(self.resbn2(self.resconv2(x)))\n",
    "        x = F.relu(Residual + Res_Output)\n",
    "        del Residual\n",
    "        del Res_Output\n",
    "        x = self.ap2(x)\n",
    "        # 3*3*3 3D Conv 8\n",
    "        x = F.relu(self.bn4(self.conv4(x)))\n",
    "        # 3*3*3 3D Conv 8\n",
    "        x = F.relu(self.bn5(self.conv5(x)))\n",
    "        # 3*3*3 3D Conv 8\n",
    "        x = F.relu(self.bn6(self.conv6(x)))\n",
    "        \n",
    "        # LSTM 64\n",
    "        x = x.permute([0,2,1,3,4])\n",
    "        x = self.Flatten1(x)\n",
    "        x = torch.tanh(self.LSTM1(x)[0])        \n",
    "        # LSTM 16\n",
    "        x = torch.tanh(self.LSTM2(x)[0])\n",
    "\n",
    "        # FC 512\n",
    "        x = x.permute(1,0,2)\n",
    "        x = F.relu(self.fc1(x))\n",
    "        # FC 128\n",
    "        x = F.relu(self.fc2(x))\n",
    "        # FC 64\n",
    "        x = F.relu(self.fc3(x))\n",
    "        # FC 16\n",
    "        x = F.relu(self.fc4(x))\n",
    "        # FC 1\n",
    "        angle = self.fc5(x)\n",
    "\n",
    "        return angle"
   ]
  },
  {
   "cell_type": "markdown",
   "metadata": {
    "id": "D9qF68Kl3Grs"
   },
   "source": [
    "DA FARE: \n",
    "\n",
    "se il batch ha la shape: (batch, C, H, W) allora settare \n",
    "`batch_size = 25` e per ogni batch fare il reshape: \n",
    "\n",
    "\n",
    "```\n",
    "for idx, batch in enumerate(self.data):\n",
    "    batch = batch.reshape((5, 5, 3, 240, 400))\n",
    "    ...\n",
    "    ...\n",
    "    ...\n",
    "```\n",
    "\n",
    "assumendo che la foto sia 3x240x400 post preprocess. \n",
    "\n",
    "Per esempio su un dato finto >> runna sotto\n"
   ]
  },
  {
   "cell_type": "markdown",
   "metadata": {
    "id": "iwxMx75ZyGAz"
   },
   "source": [
    "# Altro"
   ]
  },
  {
   "cell_type": "code",
   "execution_count": null,
   "metadata": {
    "id": "AnvKJozxsMT4"
   },
   "outputs": [],
   "source": [
    "agent = Convolution3D()"
   ]
  },
  {
   "cell_type": "markdown",
   "metadata": {
    "id": "j51QcYrwCEPf"
   },
   "source": [
    "Test pre scoprire che non possiamo decidere di stackare i frame"
   ]
  },
  {
   "cell_type": "code",
   "execution_count": null,
   "metadata": {
    "id": "JgQKoJ5esOuY"
   },
   "outputs": [],
   "source": [
    "x = torch.rand((5,5,120,320,3))\n",
    "print(x.shape)\n",
    "x = x.permute((0,4,1,2,3))\n",
    "print(x.shape)"
   ]
  },
  {
   "cell_type": "code",
   "execution_count": null,
   "metadata": {
    "id": "1RImEg0WsR56"
   },
   "outputs": [],
   "source": [
    "y = agent.forward(x)"
   ]
  },
  {
   "cell_type": "code",
   "execution_count": null,
   "metadata": {
    "id": "O29fG3kMsTo5"
   },
   "outputs": [],
   "source": [
    "y.shape"
   ]
  },
  {
   "cell_type": "markdown",
   "metadata": {
    "id": "OXE2JNsfCINq"
   },
   "source": [
    "Test supponendo che abbiamo un batch da 25 e se reshape funge per fare 5 e 5"
   ]
  },
  {
   "cell_type": "code",
   "execution_count": null,
   "metadata": {
    "id": "e0sfdzAft2ZD"
   },
   "outputs": [],
   "source": [
    "x = torch.rand((25, 3, 240, 400))\n",
    "y = x.reshape((5, 5, 3, 240, 400))"
   ]
  },
  {
   "cell_type": "code",
   "execution_count": null,
   "metadata": {
    "id": "xGqUBiSfxEej"
   },
   "outputs": [],
   "source": [
    "y[0].shape, x[:5].shape"
   ]
  },
  {
   "cell_type": "code",
   "execution_count": null,
   "metadata": {
    "id": "II_ibVg6wgvy"
   },
   "outputs": [],
   "source": [
    "torch.all(x[:5] == y[0])"
   ]
  },
  {
   "cell_type": "code",
   "execution_count": null,
   "metadata": {
    "id": "wSzdAiOXxBef"
   },
   "outputs": [],
   "source": []
  }
 ],
 "metadata": {
  "accelerator": "GPU",
  "colab": {
   "provenance": []
  },
  "gpuClass": "standard",
  "kernelspec": {
   "display_name": "Python 3 (ipykernel)",
   "language": "python",
   "name": "python3"
  },
  "language_info": {
   "codemirror_mode": {
    "name": "ipython",
    "version": 3
   },
   "file_extension": ".py",
   "mimetype": "text/x-python",
   "name": "python",
   "nbconvert_exporter": "python",
   "pygments_lexer": "ipython3",
   "version": "3.9.13"
  }
 },
 "nbformat": 4,
 "nbformat_minor": 4
}
