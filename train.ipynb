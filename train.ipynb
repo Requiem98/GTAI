{
 "cells": [
  {
   "cell_type": "markdown",
   "id": "33fe5fd0-dcbb-4e3c-8245-245e862bd4a6",
   "metadata": {},
   "source": [
    "## Libraries"
   ]
  },
  {
   "cell_type": "code",
   "execution_count": null,
   "id": "5910fed9-98e0-4689-b71d-059078eab717",
   "metadata": {},
   "outputs": [],
   "source": [
    "from libraries import *\n",
    "import baseFunctions as bf\n",
    "from models import CNN\n",
    "\n",
    "plt.style.use('ggplot')"
   ]
  },
  {
   "cell_type": "markdown",
   "id": "fb15ad23-d133-40dc-939c-056dee4ebf5d",
   "metadata": {},
   "source": []
  },
  {
   "cell_type": "code",
   "execution_count": null,
   "id": "b91d31f6-859a-4d8c-8dc8-18cade21e5e4",
   "metadata": {},
   "outputs": [],
   "source": [
    "train_dataset = bf.GTADataset(\"data.csv\", DATA_ROOT_DIR, bf.preprocess, load_all=False)\n",
    "dataloader = DataLoader(train_dataset, batch_size=128, shuffle=True, num_workers=0)"
   ]
  },
  {
   "cell_type": "code",
   "execution_count": null,
   "id": "a344ca5c-a485-4171-8d46-0c4987aaee63",
   "metadata": {},
   "outputs": [],
   "source": [
    "if __name__ == '__main__': \n",
    "    \n",
    "    \n",
    "    # Select GPU device for the training if available\n",
    "    if not torch.cuda.is_available():\n",
    "        device=torch.device(\"cpu\")\n",
    "        print(\"Current device:\", device)\n",
    "    else:\n",
    "        device=torch.device(\"cuda\")\n",
    "        print(\"Current device:\", device, \"- Type:\", torch.cuda.get_device_name(0))\n",
    "        bf.get_memory()\n",
    "        \n",
    "\n",
    "    CKP_DIR = \"./Data/models/CNN/checkpoint/\"\n",
    "    SCORE_DIR = \"./Data/models/CNN/scores/\"\n",
    "    SCORE_FILE = 'history_score.pkl'\n",
    "    \n",
    "    \n",
    "    #train_dataset = bf.GTADataset(\"data.csv\", DATA_ROOT_DIR, bf.preprocess)\n",
    "    #dataloader = DataLoader(train_dataset, batch_size=128, shuffle=True, num_workers=0)\n",
    "    \n",
    "    cnn = CNN(device=device).to(device)\n",
    "\n",
    "    cnn.train_model(dataloader, max_epoch=1, log_step=1, ckp_dir = CKP_DIR, score_dir = SCORE_DIR, score_file = SCORE_FILE)"
   ]
  }
 ],
 "metadata": {
  "kernelspec": {
   "display_name": "Python 3 (ipykernel)",
   "language": "python",
   "name": "python3"
  },
  "language_info": {
   "codemirror_mode": {
    "name": "ipython",
    "version": 3
   },
   "file_extension": ".py",
   "mimetype": "text/x-python",
   "name": "python",
   "nbconvert_exporter": "python",
   "pygments_lexer": "ipython3",
   "version": "3.9.13"
  }
 },
 "nbformat": 4,
 "nbformat_minor": 5
}
