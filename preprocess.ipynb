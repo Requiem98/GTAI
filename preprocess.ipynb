{
 "cells": [
  {
   "cell_type": "markdown",
   "id": "7e5dce0a-2a2f-460c-ac0d-56feee289fcf",
   "metadata": {},
   "source": [
    "# Preprocessing of the data"
   ]
  },
  {
   "cell_type": "markdown",
   "id": "1d8b4486-f0f6-4c14-b198-da02b2f47ba4",
   "metadata": {},
   "source": [
    "## Libraries"
   ]
  },
  {
   "cell_type": "code",
   "execution_count": 3,
   "id": "31e093b0-11cf-4a89-9923-a18a2e4bf513",
   "metadata": {},
   "outputs": [],
   "source": [
    "import pandas as pd\n",
    "import numpy as np\n",
    "import matplotlib.pyplot as plt\n",
    "import cv2\n",
    "from tqdm.notebook import tqdm\n",
    "import torch\n",
    "from torch.utils.data import TensorDataset, DataLoader\n",
    "import pickle\n",
    "\n",
    "def save_object(obj, filename):\n",
    "    with open(filename, 'wb') as outp:  # Overwrites any existing file.\n",
    "        pickle.dump(obj, outp, pickle.HIGHEST_PROTOCOL)\n",
    "        \n",
    "def read_object(filename):\n",
    "    with open(filename, 'rb') as file:\n",
    "        data = pickle.load(file)\n",
    "    return data\n"
   ]
  },
  {
   "cell_type": "markdown",
   "id": "39d13014-fdc7-4933-be9f-37f258c51e32",
   "metadata": {},
   "source": [
    "## Statistics preprocessing\n",
    "\n",
    "In this section we applied a preprocessing of the statistics data of the vehicol, converting all the data in float and adding a column for link the frame with the relatives statistics."
   ]
  },
  {
   "cell_type": "code",
   "execution_count": 4,
   "id": "99740d83-c875-4c4c-9b96-846d3c37e7e7",
   "metadata": {},
   "outputs": [],
   "source": [
    "data = pd.read_csv('./Data/data.txt', sep = \";\", index_col=0, dtype=str)"
   ]
  },
  {
   "cell_type": "code",
   "execution_count": 5,
   "id": "918fd969-889c-49b4-88de-397a08d5c81e",
   "metadata": {},
   "outputs": [],
   "source": [
    "def converter(array):\n",
    "    \n",
    "    def conv(x):\n",
    "        x = x.replace(\",\",\".\")\n",
    "        return float(x)\n",
    "\n",
    "\n",
    "    out = list(map(conv, list(map(str, array))))\n",
    "    \n",
    "    return out\n",
    "\n",
    "\n",
    "data[\"acceleration\"] = converter(data[\"acceleration\"].array)\n",
    "data[\"speed\"] = converter(data[\"speed\"].array)\n",
    "data[\"steeringScale\"] = converter(data[\"steeringScale\"].array)\n",
    "data[\"steeringAngle\"] = converter(data[\"steeringAngle\"].array)"
   ]
  },
  {
   "cell_type": "code",
   "execution_count": 6,
   "id": "cb7361e0-fcd2-4d3e-a259-aa6ff0f4b557",
   "metadata": {},
   "outputs": [
    {
     "data": {
      "image/png": "[encoded data removed]",
      "text/plain": [
       "<Figure size 640x480 with 4 Axes>"
      ]
     },
     "metadata": {},
     "output_type": "display_data"
    }
   ],
   "source": [
    "data[['steeringAngle', 'speed', 'acceleration']].hist();"
   ]
  },
  {
   "cell_type": "code",
   "execution_count": 7,
   "id": "28a772a7-8b5c-4875-abb9-f264cf2fb038",
   "metadata": {},
   "outputs": [
    {
     "data": {
      "application/vnd.jupyter.widget-view+json": {
       "model_id": "214cd0308d704ed5bc50c6cbb2e7ce96",
       "version_major": 2,
       "version_minor": 0
      },
      "text/plain": [
       "  0%|          | 0/20406 [00:00<?, ?it/s]"
      ]
     },
     "metadata": {},
     "output_type": "display_data"
    }
   ],
   "source": [
    "#Select all the images names\n",
    "images = []\n",
    "\n",
    "for i in tqdm(range(1, 20407)):\n",
    "    imgName = f\"image{i}.jpg\"\n",
    "    images.append(imgName)\n",
    "    "
   ]
  },
  {
   "cell_type": "code",
   "execution_count": 9,
   "id": "1a73ce3b-3dac-449b-9884-2c1752a04b1b",
   "metadata": {},
   "outputs": [],
   "source": [
    "#We have more frame than statistics usally\n",
    "data[\"frames\"] = images[:20393]\n",
    "#data.to_csv(\"data.csv\")"
   ]
  },
  {
   "cell_type": "code",
   "execution_count": 10,
   "id": "acda48f6-93e2-4b2c-b469-6af0339b7491",
   "metadata": {},
   "outputs": [
    {
     "data": {
      "text/html": [
       "<div>\n",
       "<style scoped>\n",
       "    .dataframe tbody tr th:only-of-type {\n",
       "        vertical-align: middle;\n",
       "    }\n",
       "\n",
       "    .dataframe tbody tr th {\n",
       "        vertical-align: top;\n",
       "    }\n",
       "\n",
       "    .dataframe thead th {\n",
       "        text-align: right;\n",
       "    }\n",
       "</style>\n",
       "<table border=\"1\" class=\"dataframe\">\n",
       "  <thead>\n",
       "    <tr style=\"text-align: right;\">\n",
       "      <th></th>\n",
       "      <th>steeringAngle</th>\n",
       "      <th>steeringScale</th>\n",
       "      <th>speed</th>\n",
       "      <th>acceleration</th>\n",
       "      <th>frames</th>\n",
       "    </tr>\n",
       "    <tr>\n",
       "      <th>index</th>\n",
       "      <th></th>\n",
       "      <th></th>\n",
       "      <th></th>\n",
       "      <th></th>\n",
       "      <th></th>\n",
       "    </tr>\n",
       "  </thead>\n",
       "  <tbody>\n",
       "    <tr>\n",
       "      <th>1</th>\n",
       "      <td>0.0</td>\n",
       "      <td>0.0</td>\n",
       "      <td>0.039338</td>\n",
       "      <td>0.0</td>\n",
       "      <td>image1.jpg</td>\n",
       "    </tr>\n",
       "    <tr>\n",
       "      <th>2</th>\n",
       "      <td>0.0</td>\n",
       "      <td>0.0</td>\n",
       "      <td>0.073160</td>\n",
       "      <td>0.0</td>\n",
       "      <td>image2.jpg</td>\n",
       "    </tr>\n",
       "    <tr>\n",
       "      <th>3</th>\n",
       "      <td>0.0</td>\n",
       "      <td>0.0</td>\n",
       "      <td>0.057160</td>\n",
       "      <td>0.0</td>\n",
       "      <td>image3.jpg</td>\n",
       "    </tr>\n",
       "    <tr>\n",
       "      <th>4</th>\n",
       "      <td>0.0</td>\n",
       "      <td>0.0</td>\n",
       "      <td>0.054395</td>\n",
       "      <td>0.0</td>\n",
       "      <td>image4.jpg</td>\n",
       "    </tr>\n",
       "    <tr>\n",
       "      <th>5</th>\n",
       "      <td>0.0</td>\n",
       "      <td>0.0</td>\n",
       "      <td>0.054684</td>\n",
       "      <td>0.0</td>\n",
       "      <td>image5.jpg</td>\n",
       "    </tr>\n",
       "    <tr>\n",
       "      <th>...</th>\n",
       "      <td>...</td>\n",
       "      <td>...</td>\n",
       "      <td>...</td>\n",
       "      <td>...</td>\n",
       "      <td>...</td>\n",
       "    </tr>\n",
       "    <tr>\n",
       "      <th>20389</th>\n",
       "      <td>0.0</td>\n",
       "      <td>0.0</td>\n",
       "      <td>0.141089</td>\n",
       "      <td>0.0</td>\n",
       "      <td>image20389.jpg</td>\n",
       "    </tr>\n",
       "    <tr>\n",
       "      <th>20390</th>\n",
       "      <td>0.0</td>\n",
       "      <td>0.0</td>\n",
       "      <td>0.118273</td>\n",
       "      <td>0.0</td>\n",
       "      <td>image20390.jpg</td>\n",
       "    </tr>\n",
       "    <tr>\n",
       "      <th>20391</th>\n",
       "      <td>0.0</td>\n",
       "      <td>0.0</td>\n",
       "      <td>0.093213</td>\n",
       "      <td>0.0</td>\n",
       "      <td>image20391.jpg</td>\n",
       "    </tr>\n",
       "    <tr>\n",
       "      <th>20392</th>\n",
       "      <td>0.0</td>\n",
       "      <td>0.0</td>\n",
       "      <td>0.053027</td>\n",
       "      <td>0.0</td>\n",
       "      <td>image20392.jpg</td>\n",
       "    </tr>\n",
       "    <tr>\n",
       "      <th>20393</th>\n",
       "      <td>NaN</td>\n",
       "      <td>NaN</td>\n",
       "      <td>NaN</td>\n",
       "      <td>NaN</td>\n",
       "      <td>image20393.jpg</td>\n",
       "    </tr>\n",
       "  </tbody>\n",
       "</table>\n",
       "<p>20393 rows × 5 columns</p>\n",
       "</div>"
      ],
      "text/plain": [
       "       steeringAngle  steeringScale     speed  acceleration          frames\n",
       "index                                                                      \n",
       "1                0.0            0.0  0.039338           0.0      image1.jpg\n",
       "2                0.0            0.0  0.073160           0.0      image2.jpg\n",
       "3                0.0            0.0  0.057160           0.0      image3.jpg\n",
       "4                0.0            0.0  0.054395           0.0      image4.jpg\n",
       "5                0.0            0.0  0.054684           0.0      image5.jpg\n",
       "...              ...            ...       ...           ...             ...\n",
       "20389            0.0            0.0  0.141089           0.0  image20389.jpg\n",
       "20390            0.0            0.0  0.118273           0.0  image20390.jpg\n",
       "20391            0.0            0.0  0.093213           0.0  image20391.jpg\n",
       "20392            0.0            0.0  0.053027           0.0  image20392.jpg\n",
       "20393            NaN            NaN       NaN           NaN  image20393.jpg\n",
       "\n",
       "[20393 rows x 5 columns]"
      ]
     },
     "execution_count": 10,
     "metadata": {},
     "output_type": "execute_result"
    }
   ],
   "source": [
    "data"
   ]
  },
  {
   "cell_type": "markdown",
   "id": "10647000-12b0-42a2-8fef-bdcd400cf0df",
   "metadata": {},
   "source": [
    "## Preprocess of the images\n",
    "\n",
    "Here we cut the low part of the image."
   ]
  },
  {
   "cell_type": "code",
   "execution_count": 2,
   "id": "83bcee2b-f275-4fe7-98e1-a695f4686185",
   "metadata": {},
   "outputs": [
    {
     "data": {
      "application/vnd.jupyter.widget-view+json": {
       "model_id": "d45374de3dbd4f16b7fde4b5ef669699",
       "version_major": 2,
       "version_minor": 0
      },
      "text/plain": [
       "  0%|          | 0/20406 [00:00<?, ?it/s]"
      ]
     },
     "metadata": {},
     "output_type": "display_data"
    }
   ],
   "source": [
    "images = []\n",
    "\n",
    "for i in tqdm(range(1, 20407)):\n",
    "    img = cv2.imread(f\"./Data/images/image{i}.jpg\")\n",
    "    #img = cv2.normalize(img, None, alpha=0, beta=1, norm_type=cv2.NORM_MINMAX, dtype=cv2.CV_32F)\n",
    "    img = cv2.cvtColor(img, cv2.COLOR_BGR2RGB)\n",
    "    \n",
    "    img = img[:350, :]\n",
    "    \n",
    "    images.append(img)\n",
    "    "
   ]
  },
  {
   "cell_type": "code",
   "execution_count": 5,
   "id": "a0450e86-839b-4a5b-a86c-5adcb7b9b3b1",
   "metadata": {},
   "outputs": [],
   "source": [
    "save_object(images,\"./Data/images/images.pkl\")"
   ]
  }
 ],
 "metadata": {
  "kernelspec": {
   "display_name": "Python 3 (ipykernel)",
   "language": "python",
   "name": "python3"
  },
  "language_info": {
   "codemirror_mode": {
    "name": "ipython",
    "version": 3
   },
   "file_extension": ".py",
   "mimetype": "text/x-python",
   "name": "python",
   "nbconvert_exporter": "python",
   "pygments_lexer": "ipython3",
   "version": "3.9.13"
  }
 },
 "nbformat": 4,
 "nbformat_minor": 5
}
